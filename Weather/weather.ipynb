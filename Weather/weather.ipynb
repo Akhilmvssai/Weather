{
 "cells": [
  {
   "cell_type": "code",
   "execution_count": 1,
   "id": "2a345ca5",
   "metadata": {},
   "outputs": [],
   "source": [
    "from pandas import *"
   ]
  },
  {
   "cell_type": "code",
   "execution_count": 2,
   "id": "a33203da",
   "metadata": {},
   "outputs": [],
   "source": [
    "d=read_csv(\"weather.csv\")"
   ]
  },
  {
   "cell_type": "code",
   "execution_count": 3,
   "id": "15f069a9",
   "metadata": {},
   "outputs": [
    {
     "data": {
      "text/plain": [
       "Location\n",
       "krishnankovil     2734\n",
       "srivilliputhur    2734\n",
       "virudhu27gar      2734\n",
       "madurai           2734\n",
       "sivakasi          2734\n",
       "coimbatore        2734\n",
       "Name: count, dtype: int64"
      ]
     },
     "execution_count": 3,
     "metadata": {},
     "output_type": "execute_result"
    }
   ],
   "source": [
    "d[\"Location\"].value_counts()"
   ]
  },
  {
   "cell_type": "code",
   "execution_count": 4,
   "id": "a3f2da65",
   "metadata": {},
   "outputs": [
    {
     "name": "stdout",
     "output_type": "stream",
     "text": [
      "<class 'pandas.core.frame.DataFrame'>\n",
      "RangeIndex: 16404 entries, 0 to 16403\n",
      "Data columns (total 13 columns):\n",
      " #   Column        Non-Null Count  Dtype  \n",
      "---  ------        --------------  -----  \n",
      " 0   date          16404 non-null  object \n",
      " 1   Location      16404 non-null  object \n",
      " 2   MinTemp       16404 non-null  float64\n",
      " 3   MaxTemp       16404 non-null  float64\n",
      " 4   Rainfall      16404 non-null  float64\n",
      " 5   WindSpeed9am  16404 non-null  int64  \n",
      " 6   WindSpeed3pm  16404 non-null  int64  \n",
      " 7   Humidity9am   16404 non-null  int64  \n",
      " 8   Humidity3pm   16404 non-null  int64  \n",
      " 9   Pressure9am   16404 non-null  float64\n",
      " 10  Pressure3pm   16404 non-null  float64\n",
      " 11  RainToday     16404 non-null  int64  \n",
      " 12  RainTomorrow  16404 non-null  int64  \n",
      "dtypes: float64(5), int64(6), object(2)\n",
      "memory usage: 1.6+ MB\n"
     ]
    }
   ],
   "source": [
    "d.info()"
   ]
  },
  {
   "cell_type": "code",
   "execution_count": 5,
   "id": "7c7e536e",
   "metadata": {},
   "outputs": [],
   "source": [
    "d.drop(columns=[\"Rainfall\",\"WindSpeed3pm\",\"Humidity3pm\",\"Pressure3pm\"],inplace=True)"
   ]
  },
  {
   "cell_type": "code",
   "execution_count": 6,
   "id": "3cbf2cc7",
   "metadata": {},
   "outputs": [],
   "source": [
    "#d1=d[d[\"Location\"]==\"krishnankovil\"]"
   ]
  },
  {
   "cell_type": "code",
   "execution_count": 7,
   "id": "b544cfc4",
   "metadata": {},
   "outputs": [],
   "source": [
    "#d1.drop(columns=[\"Location\",\"date\"],inplace=True)"
   ]
  },
  {
   "cell_type": "code",
   "execution_count": 8,
   "id": "57931155",
   "metadata": {},
   "outputs": [],
   "source": [
    "#d1"
   ]
  },
  {
   "cell_type": "code",
   "execution_count": 9,
   "id": "113b14ab",
   "metadata": {},
   "outputs": [
    {
     "data": {
      "text/plain": [
       "'x=d1.drop(columns=[\"RainToday\",\"RainTomorrow\"])\\ny1=d1[\"RainToday\"]\\ny2=d1[\"RainTomorrow\"]'"
      ]
     },
     "execution_count": 9,
     "metadata": {},
     "output_type": "execute_result"
    }
   ],
   "source": [
    "\"\"\"x=d1.drop(columns=[\"RainToday\",\"RainTomorrow\"])\n",
    "y1=d1[\"RainToday\"]\n",
    "y2=d1[\"RainTomorrow\"]\"\"\""
   ]
  },
  {
   "cell_type": "code",
   "execution_count": 10,
   "id": "593046ed",
   "metadata": {},
   "outputs": [
    {
     "data": {
      "text/plain": [
       "'from sklearn.model_selection import train_test_split\\nx_train,x_test,y_train,y_test=train_test_split(x,y1,stratify=y1,test_size=0.2)'"
      ]
     },
     "execution_count": 10,
     "metadata": {},
     "output_type": "execute_result"
    }
   ],
   "source": [
    "\"\"\"from sklearn.model_selection import train_test_split\n",
    "x_train,x_test,y_train,y_test=train_test_split(x,y1,stratify=y1,test_size=0.2)\"\"\""
   ]
  },
  {
   "cell_type": "code",
   "execution_count": 11,
   "id": "234eda2b",
   "metadata": {},
   "outputs": [],
   "source": [
    "#x_train1,x_test1,y_train1,y_test1=train_test_split(x,y2,stratify=y2,test_size=0.2)"
   ]
  },
  {
   "cell_type": "code",
   "execution_count": 12,
   "id": "65c29a80",
   "metadata": {},
   "outputs": [],
   "source": [
    "#from sklearn.linear_model import LinearRegression"
   ]
  },
  {
   "cell_type": "code",
   "execution_count": 13,
   "id": "3c6afb02",
   "metadata": {},
   "outputs": [],
   "source": [
    "#lr=LinearRegression().fit(x_train,y_train)"
   ]
  },
  {
   "cell_type": "code",
   "execution_count": 14,
   "id": "4ebc77e5",
   "metadata": {},
   "outputs": [],
   "source": [
    "#lr1=LinearRegression().fit(x_train1,y_train1)"
   ]
  },
  {
   "cell_type": "code",
   "execution_count": 15,
   "id": "d779208a",
   "metadata": {},
   "outputs": [],
   "source": [
    "import joblib"
   ]
  },
  {
   "cell_type": "code",
   "execution_count": 16,
   "id": "5a242c30",
   "metadata": {},
   "outputs": [],
   "source": [
    "#joblib.dump(lr,\"krishnankovil.joblib\")"
   ]
  },
  {
   "cell_type": "code",
   "execution_count": 17,
   "id": "7c004d03",
   "metadata": {},
   "outputs": [],
   "source": [
    "#joblib.dump(lr1,\"krishnankovil.joblib\")"
   ]
  },
  {
   "cell_type": "code",
   "execution_count": 18,
   "id": "12a8f061",
   "metadata": {},
   "outputs": [],
   "source": [
    "from seaborn import *"
   ]
  },
  {
   "cell_type": "code",
   "execution_count": 19,
   "id": "88d2a6ba",
   "metadata": {},
   "outputs": [],
   "source": [
    "#boxplot(d1[\"Humidity3pm\"])"
   ]
  },
  {
   "cell_type": "code",
   "execution_count": 20,
   "id": "f5916ff0",
   "metadata": {},
   "outputs": [],
   "source": [
    "d[\"Location\"].replace('virudhu27gar','virudhnagar',inplace=True)"
   ]
  },
  {
   "cell_type": "code",
   "execution_count": 21,
   "id": "ff84cb19",
   "metadata": {},
   "outputs": [
    {
     "data": {
      "text/plain": [
       "['coimbatore',\n",
       " 'krishnankovil',\n",
       " 'madurai',\n",
       " 'sivakasi',\n",
       " 'srivilliputhur',\n",
       " 'virudhnagar']"
      ]
     },
     "execution_count": 21,
     "metadata": {},
     "output_type": "execute_result"
    }
   ],
   "source": [
    "from numpy import *\n",
    "loc=list(unique(d[\"Location\"]))\n",
    "loc"
   ]
  },
  {
   "cell_type": "code",
   "execution_count": 22,
   "id": "e59a1c0a",
   "metadata": {},
   "outputs": [
    {
     "name": "stderr",
     "output_type": "stream",
     "text": [
      "/var/folders/17/p1nglxbn3vb2y41r_dvt_7yr0000gn/T/ipykernel_2218/1590348311.py:3: SettingWithCopyWarning: \n",
      "A value is trying to be set on a copy of a slice from a DataFrame\n",
      "\n",
      "See the caveats in the documentation: https://pandas.pydata.org/pandas-docs/stable/user_guide/indexing.html#returning-a-view-versus-a-copy\n",
      "  d1.drop(columns=[\"Location\",\"date\"],inplace=True)\n",
      "/var/folders/17/p1nglxbn3vb2y41r_dvt_7yr0000gn/T/ipykernel_2218/1590348311.py:3: SettingWithCopyWarning: \n",
      "A value is trying to be set on a copy of a slice from a DataFrame\n",
      "\n",
      "See the caveats in the documentation: https://pandas.pydata.org/pandas-docs/stable/user_guide/indexing.html#returning-a-view-versus-a-copy\n",
      "  d1.drop(columns=[\"Location\",\"date\"],inplace=True)\n"
     ]
    },
    {
     "name": "stdout",
     "output_type": "stream",
     "text": [
      "       MinTemp  MaxTemp  WindSpeed9am  Humidity9am  Pressure9am  RainToday  \\\n",
      "13670      2.1     15.0            19           55       1019.2          0   \n",
      "13671     -1.1     15.9            13           53       1020.3          0   \n",
      "13672     -0.5     18.1            13           59       1019.3          0   \n",
      "13673      0.0     20.9             4           43       1019.3          0   \n",
      "13674      3.3     21.5            13           58       1023.6          0   \n",
      "...        ...      ...           ...          ...          ...        ...   \n",
      "16399      7.5     21.3            19           47         27.0          0   \n",
      "16400      6.0     20.2             4           59         27.0          0   \n",
      "16401      4.2     22.2             0           70         27.0          0   \n",
      "16402      8.4     16.3            56           52         27.0          0   \n",
      "16403      8.4     19.7            19           66         27.0          0   \n",
      "\n",
      "       RainTomorrow  \n",
      "13670             0  \n",
      "13671             0  \n",
      "13672             0  \n",
      "13673             0  \n",
      "13674             0  \n",
      "...             ...  \n",
      "16399             0  \n",
      "16400             0  \n",
      "16401             0  \n",
      "16402             0  \n",
      "16403             0  \n",
      "\n",
      "[2734 rows x 7 columns]\n",
      "      MinTemp  MaxTemp  WindSpeed9am  Humidity9am  Pressure9am  RainToday  \\\n",
      "0        13.4     22.9            20           71       1007.7          0   \n",
      "1         7.4     25.1             4           44       1010.6          0   \n",
      "2        12.9     25.7            19           38       1007.6          0   \n",
      "3         9.2     28.0            11           45       1017.6          0   \n",
      "4        17.5     32.3             7           82       1010.8          0   \n",
      "...       ...      ...           ...          ...          ...        ...   \n",
      "2729      9.3     16.4            30           58       1012.9          0   \n",
      "2730      5.3     12.0            15           86       1016.1          1   \n",
      "2731      5.4     15.4            11           83       1020.1          0   \n",
      "2732      8.4     13.9            11           91       1016.8          0   \n",
      "2733      4.2     15.7            11           88       1016.1          1   \n",
      "\n",
      "      RainTomorrow  \n",
      "0                0  \n",
      "1                0  \n",
      "2                0  \n",
      "3                0  \n",
      "4                0  \n",
      "...            ...  \n",
      "2729             0  \n",
      "2730             1  \n",
      "2731             0  \n",
      "2732             0  \n",
      "2733             1  \n",
      "\n",
      "[2734 rows x 7 columns]\n",
      "       MinTemp  MaxTemp  WindSpeed9am  Humidity9am  Pressure9am  RainToday  \\\n",
      "8202      21.3     34.5            13           66       1011.8          1   \n",
      "8203      22.5     36.2            22           56       1012.0          0   \n",
      "8204      24.5     37.9            20           52       1012.0          0   \n",
      "8205      24.6     37.9            20           47       1011.2          0   \n",
      "8206      22.6     36.2            17           54       1010.9          0   \n",
      "...        ...      ...           ...          ...          ...        ...   \n",
      "10931     10.8     22.9            27           67         27.0          0   \n",
      "10932     10.9     23.4            27           84         27.0          0   \n",
      "10933     13.9     24.9            27           62         27.0          0   \n",
      "10934     11.6     23.6            27           61         27.0          0   \n",
      "10935     10.8     24.1            27           63         27.0          0   \n",
      "\n",
      "       RainTomorrow  \n",
      "8202              1  \n",
      "8203              0  \n",
      "8204              0  \n",
      "8205              0  \n",
      "8206              0  \n",
      "...             ...  \n",
      "10931             0  \n",
      "10932             0  \n",
      "10933             0  \n",
      "10934             0  \n",
      "10935             0  \n",
      "\n",
      "[2734 rows x 7 columns]\n",
      "       MinTemp  MaxTemp  WindSpeed9am  Humidity9am  Pressure9am  RainToday  \\\n",
      "10936     10.4     23.7            27           73         27.0          0   \n",
      "10937     14.6     24.4            27           72         27.0          0   \n",
      "10938     11.4     26.5            27           66         27.0          0   \n",
      "10939     10.5     26.3            27           60         27.0          0   \n",
      "10940     11.6     24.2            27           75         27.0          0   \n",
      "...        ...      ...           ...          ...          ...        ...   \n",
      "13665      5.4     18.7            31           56       1022.1          0   \n",
      "13666      0.8     22.5            20           34       1023.5          0   \n",
      "13667     11.8     16.8            20           88       1016.6          0   \n",
      "13668      5.8     20.2             7           99       1021.1          1   \n",
      "13669      2.4     22.5             9           67       1017.8          0   \n",
      "\n",
      "       RainTomorrow  \n",
      "10936             0  \n",
      "10937             0  \n",
      "10938             0  \n",
      "10939             0  \n",
      "10940             0  \n",
      "...             ...  \n",
      "13665             0  \n",
      "13666             0  \n",
      "13667             0  \n",
      "13668             1  \n",
      "13669             0  \n",
      "\n",
      "[2734 rows x 7 columns]\n",
      "      MinTemp  MaxTemp  WindSpeed9am  Humidity9am  Pressure9am  RainToday  \\\n",
      "2734      2.6     12.2             6           79       1014.8          0   \n",
      "2735      3.3     14.1             7           97       1013.2          0   \n",
      "2736      0.2     13.6             7          100       1022.9          0   \n",
      "2737      0.7     13.5             4           85       1025.3          0   \n",
      "2738      2.1     16.9             4           89       1024.8          0   \n",
      "...       ...      ...           ...          ...          ...        ...   \n",
      "5463     12.9     35.3             4           73       1013.9          0   \n",
      "5464     14.3     36.5             4           71       1015.0          0   \n",
      "5465     18.5     39.4             7           80       1012.6          0   \n",
      "5466     16.6     22.9             2           70       1015.6          0   \n",
      "5467     15.8     21.1             2           75       1019.5          0   \n",
      "\n",
      "      RainTomorrow  \n",
      "2734             0  \n",
      "2735             0  \n",
      "2736             0  \n",
      "2737             0  \n",
      "2738             0  \n",
      "...            ...  \n",
      "5463             0  \n",
      "5464             0  \n",
      "5465             0  \n",
      "5466             0  \n",
      "5467             0  \n",
      "\n",
      "[2734 rows x 7 columns]\n",
      "      MinTemp  MaxTemp  WindSpeed9am  Humidity9am  Pressure9am  RainToday  \\\n",
      "5468     13.1     29.2             4           72       1012.0          0   \n",
      "5469     15.2     29.0             7           73       1017.2          0   \n",
      "5470     12.7     34.3             2           64       1013.1          0   \n",
      "5471     14.8     36.8            17           45       1000.1          0   \n",
      "5472     12.4     24.6             4           63       1016.1          0   \n",
      "...       ...      ...           ...          ...          ...        ...   \n",
      "8197     24.0     39.3            17           38       1012.5          0   \n",
      "8198     22.4     34.3            13           40       1013.1          0   \n",
      "8199     20.7     31.5            15           65       1014.8          1   \n",
      "8200     21.9     32.3            19           47       1015.5          0   \n",
      "8201     22.0     31.5            17           65       1013.4          0   \n",
      "\n",
      "      RainTomorrow  \n",
      "5468             0  \n",
      "5469             0  \n",
      "5470             0  \n",
      "5471             0  \n",
      "5472             0  \n",
      "...            ...  \n",
      "8197             0  \n",
      "8198             0  \n",
      "8199             1  \n",
      "8200             0  \n",
      "8201             0  \n",
      "\n",
      "[2734 rows x 7 columns]\n"
     ]
    },
    {
     "name": "stderr",
     "output_type": "stream",
     "text": [
      "/var/folders/17/p1nglxbn3vb2y41r_dvt_7yr0000gn/T/ipykernel_2218/1590348311.py:3: SettingWithCopyWarning: \n",
      "A value is trying to be set on a copy of a slice from a DataFrame\n",
      "\n",
      "See the caveats in the documentation: https://pandas.pydata.org/pandas-docs/stable/user_guide/indexing.html#returning-a-view-versus-a-copy\n",
      "  d1.drop(columns=[\"Location\",\"date\"],inplace=True)\n",
      "/var/folders/17/p1nglxbn3vb2y41r_dvt_7yr0000gn/T/ipykernel_2218/1590348311.py:3: SettingWithCopyWarning: \n",
      "A value is trying to be set on a copy of a slice from a DataFrame\n",
      "\n",
      "See the caveats in the documentation: https://pandas.pydata.org/pandas-docs/stable/user_guide/indexing.html#returning-a-view-versus-a-copy\n",
      "  d1.drop(columns=[\"Location\",\"date\"],inplace=True)\n",
      "/var/folders/17/p1nglxbn3vb2y41r_dvt_7yr0000gn/T/ipykernel_2218/1590348311.py:3: SettingWithCopyWarning: \n",
      "A value is trying to be set on a copy of a slice from a DataFrame\n",
      "\n",
      "See the caveats in the documentation: https://pandas.pydata.org/pandas-docs/stable/user_guide/indexing.html#returning-a-view-versus-a-copy\n",
      "  d1.drop(columns=[\"Location\",\"date\"],inplace=True)\n",
      "/var/folders/17/p1nglxbn3vb2y41r_dvt_7yr0000gn/T/ipykernel_2218/1590348311.py:3: SettingWithCopyWarning: \n",
      "A value is trying to be set on a copy of a slice from a DataFrame\n",
      "\n",
      "See the caveats in the documentation: https://pandas.pydata.org/pandas-docs/stable/user_guide/indexing.html#returning-a-view-versus-a-copy\n",
      "  d1.drop(columns=[\"Location\",\"date\"],inplace=True)\n"
     ]
    }
   ],
   "source": [
    "for i in loc:\n",
    "    d1=d[d[\"Location\"]==i]\n",
    "    d1.drop(columns=[\"Location\",\"date\"],inplace=True)\n",
    "    print(d1)\n",
    "    x=d1.drop(columns=[\"RainToday\",\"RainTomorrow\"])\n",
    "    y1=d1[\"RainToday\"]\n",
    "    y2=d1[\"RainTomorrow\"]\n",
    "    from sklearn.model_selection import train_test_split\n",
    "    x_train,x_test,y_train,y_test=train_test_split(x,y1,stratify=y1,test_size=0.2)\n",
    "\n",
    "    x_train1,x_test1,y_train1,y_test1=train_test_split(x,y2,stratify=y2,test_size=0.2)\n",
    "\n",
    "    from sklearn.linear_model import LogisticRegression\n",
    "    lr=LogisticRegression().fit(x_train,y_train)\n",
    "    lr1=LogisticRegression().fit(x_train1,y_train1)\n",
    "    l=str(i)+\".joblib\"\n",
    "    l1=str(i)+\"1.joblib\"\n",
    "    joblib.dump(lr,l)\n",
    "    joblib.dump(lr1,l1)"
   ]
  },
  {
   "cell_type": "code",
   "execution_count": 23,
   "id": "ffdc5677",
   "metadata": {},
   "outputs": [
    {
     "name": "stdout",
     "output_type": "stream",
     "text": [
      "coimbatore.joblib\n",
      "coimbatore1.joblib\n",
      "krishnankovil.joblib\n",
      "krishnankovil1.joblib\n",
      "madurai.joblib\n",
      "madurai1.joblib\n",
      "sivakasi.joblib\n",
      "sivakasi1.joblib\n",
      "srivilliputhur.joblib\n",
      "srivilliputhur1.joblib\n",
      "virudhnagar.joblib\n",
      "virudhnagar1.joblib\n"
     ]
    }
   ],
   "source": [
    "for i in loc:\n",
    "    l=str(i)+\".joblib\"\n",
    "    l1=str(i)+\"1.joblib\"\n",
    "    print(l)\n",
    "    print(l1)"
   ]
  },
  {
   "cell_type": "code",
   "execution_count": null,
   "id": "3a1c314b",
   "metadata": {},
   "outputs": [],
   "source": []
  }
 ],
 "metadata": {
  "kernelspec": {
   "display_name": "Python 3 (ipykernel)",
   "language": "python",
   "name": "python3"
  },
  "language_info": {
   "codemirror_mode": {
    "name": "ipython",
    "version": 3
   },
   "file_extension": ".py",
   "mimetype": "text/x-python",
   "name": "python",
   "nbconvert_exporter": "python",
   "pygments_lexer": "ipython3",
   "version": "3.11.5"
  }
 },
 "nbformat": 4,
 "nbformat_minor": 5
}
